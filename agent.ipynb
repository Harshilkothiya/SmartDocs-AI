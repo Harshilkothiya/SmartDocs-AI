{
 "cells": [
  {
   "cell_type": "code",
   "execution_count": 7,
   "id": "a72a657e",
   "metadata": {},
   "outputs": [
    {
     "data": {
      "text/plain": [
       "True"
      ]
     },
     "execution_count": 7,
     "metadata": {},
     "output_type": "execute_result"
    }
   ],
   "source": [
    "from langchain_google_genai import GoogleGenerativeAIEmbeddings, ChatGoogleGenerativeAI\n",
    "from langchain_community.document_loaders import PyPDFLoader, TextLoader\n",
    "from langchain_core.tools import tool\n",
    "from langchain.text_splitter import RecursiveCharacterTextSplitter  \n",
    "from langchain.tools.retriever import create_retriever_tool\n",
    "from langchain.vectorstores import Chroma\n",
    "from langchain import hub\n",
    "from langchain.agents import create_react_agent, AgentExecutor\n",
    "from dotenv import load_dotenv\n",
    "\n",
    "load_dotenv()"
   ]
  },
  {
   "cell_type": "code",
   "execution_count": 2,
   "id": "9529f6fe",
   "metadata": {},
   "outputs": [],
   "source": [
    "embedding = GoogleGenerativeAIEmbeddings(model=\"models/gemini-embedding-001\")\n",
    "llm = ChatGoogleGenerativeAI(model='gemini-2.5-flash')\n"
   ]
  },
  {
   "cell_type": "code",
   "execution_count": 23,
   "id": "cde460d5",
   "metadata": {},
   "outputs": [],
   "source": [
    "@tool\n",
    "def summarizer(text: str) -> str:\n",
    "    \"\"\"Summarize the provided text.\"\"\"\n",
    "    s_text = llm.invoke(f\"summarize this text:\\n{text}\").content\n",
    "    return s_text\n",
    "\n",
    "\n",
    "@tool\n",
    "def query(text: str) -> str:\n",
    "    \"\"\"Answer a question based on the provided context text. \"\"\"\n",
    "    response = llm.invoke(\n",
    "        f\"Answer the following query based on the given text. \"\n",
    "        f\"If you cannot answer, return 'I am not able to answer this query.'\\n\\n\"\n",
    "        f\"Query: {query}\\n\\nText: {text}\"\n",
    "    ).content\n",
    "    return response\n",
    "\n",
    "\n",
    "# ---------- HELPERS ----------\n",
    "def doc_loader(path: str):\n",
    "    \"\"\"Load file, split into chunks, and return a Chroma vectorstore.\"\"\"\n",
    "    if path.endswith(\".pdf\"):\n",
    "        loader = PyPDFLoader(path)\n",
    "    else:\n",
    "        loader = TextLoader(path)\n",
    "    \n",
    "    docs = loader.load()\n",
    "    \n",
    "    splitter = RecursiveCharacterTextSplitter(\n",
    "        chunk_size=1000,\n",
    "        chunk_overlap=200\n",
    "    )\n",
    "    text_split = splitter.split_documents(docs)\n",
    "\n",
    "    vector_store = Chroma.from_documents(\n",
    "        embedding=embedding,\n",
    "        documents=text_split\n",
    "    )\n",
    "    vector_store.persist()\n",
    "    return vector_store\n",
    "\n",
    "\n",
    "def connect_vectorstore(vector_store):\n",
    "    \"\"\"Wrap vectorstore as a retriever tool.\"\"\"\n",
    "    retriever = vector_store.as_retriever(search_type=\"similarity\", search_kwargs={\"k\": 4})\n",
    "    retriever_tool = create_retriever_tool(\n",
    "        retriever,\n",
    "        name=\"pdf_search\",\n",
    "        description=\"Search and return information from the document.\"\n",
    "    )\n",
    "    return retriever_tool"
   ]
  },
  {
   "cell_type": "code",
   "execution_count": 24,
   "id": "2a2894da",
   "metadata": {},
   "outputs": [],
   "source": [
    "database = doc_loader(\"cricket.txt\")\n",
    "\n",
    "retriever_tool = connect_vectorstore(database)\n",
    "\n",
    "# make the agent\n",
    "tools = [retriever_tool, query, summarizer]\n"
   ]
  },
  {
   "cell_type": "code",
   "execution_count": 25,
   "id": "97d54432",
   "metadata": {},
   "outputs": [
    {
     "name": "stderr",
     "output_type": "stream",
     "text": [
      "C:\\Users\\dell\\AppData\\Roaming\\Python\\Python312\\site-packages\\langsmith\\client.py:272: LangSmithMissingAPIKeyWarning: API key must be provided when using hosted LangSmith API\n",
      "  warnings.warn(\n"
     ]
    }
   ],
   "source": [
    "prompt = hub.pull(\"hwchase17/react\")\n",
    "\n",
    "agent = create_react_agent(\n",
    "    llm=llm,\n",
    "    tools=tools,\n",
    "    prompt=prompt\n",
    ")\n",
    "\n",
    "agent_executor = AgentExecutor(\n",
    "    tools=tools,\n",
    "    agent=agent,\n",
    "    verbose=True\n",
    ")"
   ]
  },
  {
   "cell_type": "code",
   "execution_count": 26,
   "id": "8d1e30bf",
   "metadata": {},
   "outputs": [
    {
     "name": "stdout",
     "output_type": "stream",
     "text": [
      "\n",
      "\n",
      "\u001b[1m> Entering new AgentExecutor chain...\u001b[0m\n",
      "\u001b[32;1m\u001b[1;3mAction: pdf_search\n",
      "Action Input: modern cricket\u001b[0m\u001b[36;1m\u001b[1;3mTraditionally, cricketers play in all-white kit, but in limited overs cricket, they wear club or team colours. In addition to the basic kit, some players wear protective gear to prevent injury caused by the ball, which is a hard, solid spheroid made of compressed leather with a slightly raised sewn seam enclosing a cork core layered with tightly wound string.\n",
      "\n",
      "Traditionally, cricketers play in all-white kit, but in limited overs cricket, they wear club or team colours. In addition to the basic kit, some players wear protective gear to prevent injury caused by the ball, which is a hard, solid spheroid made of compressed leather with a slightly raised sewn seam enclosing a cork core layered with tightly wound string.\n",
      "\n",
      "Traditionally, cricketers play in all-white kit, but in limited overs cricket, they wear club or team colours. In addition to the basic kit, some players wear protective gear to prevent injury caused by the ball, which is a hard, solid spheroid made of compressed leather with a slightly raised sewn seam enclosing a cork core layered with tightly wound string.\n",
      "\n",
      "Traditionally, cricketers play in all-white kit, but in limited overs cricket, they wear club or team colours. In addition to the basic kit, some players wear protective gear to prevent injury caused by the ball, which is a hard, solid spheroid made of compressed leather with a slightly raised sewn seam enclosing a cork core layered with tightly wound string.\u001b[0m\u001b[32;1m\u001b[1;3mAction: summarizer\n",
      "Action Input: Traditionally, cricketers play in all-white kit, but in limited overs cricket, they wear club or team colours. In addition to the basic kit, some players wear protective gear to prevent injury caused by the ball, which is a hard, solid spheroid made of compressed leather with a slightly raised sewn seam enclosing a cork core layered with tightly wound string.\u001b[0m\u001b[38;5;200m\u001b[1;3mCricketers traditionally wear all-white kits, though limited overs matches feature team colors. Some players also wear protective gear to prevent injuries from the hard, solid ball, which is a leather-covered spheroid with a cork and string core and a raised seam.\u001b[0m\u001b[32;1m\u001b[1;3mAction: query\n",
      "Action Input: Some players also wear protective gear to prevent injuries from the hard, solid ball, which is a leather-covered spheroid with a cork and string core and a raised seam. Why do some players wear protective gear in cricket?\u001b[0m\u001b[33;1m\u001b[1;3mSome players wear protective gear to prevent injuries from the hard, solid ball.\u001b[0m\u001b[32;1m\u001b[1;3mI now know the final answer\n",
      "Final Answer: Some players wear protective gear in cricket to prevent injuries from the hard, solid ball.\u001b[0m\n",
      "\n",
      "\u001b[1m> Finished chain.\u001b[0m\n"
     ]
    },
    {
     "data": {
      "text/plain": [
       "{'input': 'I have uploaded a document about cricket.  \\n1. First, search the document to find information about modern cricket.  \\n2. Then summarize what you found into a short paragraph.  \\n3. Finally, based on that text, answer this question: \"Why do some players wear protective gear in cricket?\"\\n',\n",
       " 'output': 'Some players wear protective gear in cricket to prevent injuries from the hard, solid ball.'}"
      ]
     },
     "execution_count": 26,
     "metadata": {},
     "output_type": "execute_result"
    }
   ],
   "source": [
    "response = agent_executor.invoke({'input':'''I have uploaded a document about cricket.  \n",
    "1. First, search the document to find information about modern cricket.  \n",
    "2. Then summarize what you found into a short paragraph.  \n",
    "3. Finally, based on that text, answer this question: \"Why do some players wear protective gear in cricket?\"\n",
    "'''})\n",
    "\n",
    "response"
   ]
  },
  {
   "cell_type": "code",
   "execution_count": null,
   "id": "2ff05029",
   "metadata": {},
   "outputs": [],
   "source": []
  }
 ],
 "metadata": {
  "kernelspec": {
   "display_name": "Python 3",
   "language": "python",
   "name": "python3"
  },
  "language_info": {
   "codemirror_mode": {
    "name": "ipython",
    "version": 3
   },
   "file_extension": ".py",
   "mimetype": "text/x-python",
   "name": "python",
   "nbconvert_exporter": "python",
   "pygments_lexer": "ipython3",
   "version": "3.12.4"
  }
 },
 "nbformat": 4,
 "nbformat_minor": 5
}
